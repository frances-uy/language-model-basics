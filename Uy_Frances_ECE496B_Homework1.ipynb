{
  "nbformat": 4,
  "nbformat_minor": 0,
  "metadata": {
    "colab": {
      "provenance": [],
      "include_colab_link": true
    },
    "kernelspec": {
      "name": "python3",
      "display_name": "Python 3"
    },
    "language_info": {
      "name": "python"
    }
  },
  "cells": [
    {
      "cell_type": "markdown",
      "metadata": {
        "id": "view-in-github",
        "colab_type": "text"
      },
      "source": [
        "<a href=\"https://colab.research.google.com/github/frances-uy/language-model-basics/blob/main/Uy_Frances_ECE496B_Homework1.ipynb\" target=\"_parent\"><img src=\"https://colab.research.google.com/assets/colab-badge.svg\" alt=\"Open In Colab\"/></a>"
      ]
    },
    {
      "cell_type": "code",
      "execution_count": null,
      "metadata": {
        "colab": {
          "base_uri": "https://localhost:8080/"
        },
        "id": "ijR6qPINU_P6",
        "outputId": "0ccb8d9d-3148-411f-dc65-ea0972672865"
      },
      "outputs": [
        {
          "output_type": "stream",
          "name": "stdout",
          "text": [
            "fatal: destination path 's2025-assignment1-basics' already exists and is not an empty directory.\n"
          ]
        }
      ],
      "source": [
        "!git clone https://github.com/igormolybog/s2025-assignment1-basics.git"
      ]
    },
    {
      "cell_type": "code",
      "source": [
        "%cd s2025-assignment1-basics/"
      ],
      "metadata": {
        "colab": {
          "base_uri": "https://localhost:8080/"
        },
        "id": "S5eKjGhFMiZ6",
        "outputId": "8769e3d7-0f2b-4432-9bf5-1cd2b5abbd85"
      },
      "execution_count": null,
      "outputs": [
        {
          "output_type": "stream",
          "name": "stdout",
          "text": [
            "/content/s2025-assignment1-basics\n"
          ]
        }
      ]
    },
    {
      "cell_type": "code",
      "source": [
        "!git pull"
      ],
      "metadata": {
        "colab": {
          "base_uri": "https://localhost:8080/"
        },
        "id": "uVh85UKdMng8",
        "outputId": "acd79ce0-95b5-4702-c0ad-a0fad4bd419f"
      },
      "execution_count": null,
      "outputs": [
        {
          "output_type": "stream",
          "name": "stdout",
          "text": [
            "Already up to date.\n"
          ]
        }
      ]
    },
    {
      "cell_type": "code",
      "source": [
        "!git checkout main"
      ],
      "metadata": {
        "colab": {
          "base_uri": "https://localhost:8080/"
        },
        "id": "MLdwVyZ3MKk8",
        "outputId": "61d5bf76-93d1-4f90-ef65-42b763f7dec0"
      },
      "execution_count": null,
      "outputs": [
        {
          "output_type": "stream",
          "name": "stdout",
          "text": [
            "Already on 'main'\n",
            "Your branch is up to date with 'origin/main'.\n"
          ]
        }
      ]
    },
    {
      "cell_type": "markdown",
      "source": [
        "No need for Conda environment on Colab"
      ],
      "metadata": {
        "id": "qUpCszLnfDf1"
      }
    },
    {
      "cell_type": "code",
      "source": [
        "!pip install -e .'[test]'"
      ],
      "metadata": {
        "colab": {
          "base_uri": "https://localhost:8080/"
        },
        "id": "D1tPK7iKenBW",
        "outputId": "f8c571cb-2730-46ff-fe05-ec96583d6dae"
      },
      "execution_count": null,
      "outputs": [
        {
          "output_type": "stream",
          "name": "stdout",
          "text": [
            "Obtaining file:///content/s2025-assignment1-basics\n",
            "  Preparing metadata (setup.py) ... \u001b[?25l\u001b[?25hdone\n",
            "Requirement already satisfied: regex in /usr/local/lib/python3.10/dist-packages (from ece496b_basics==0.1.7.dev0) (2024.11.6)\n",
            "Collecting torch==2.2.1 (from ece496b_basics==0.1.7.dev0)\n",
            "  Using cached torch-2.2.1-cp310-cp310-manylinux1_x86_64.whl.metadata (26 kB)\n",
            "Requirement already satisfied: numpy in /usr/local/lib/python3.10/dist-packages (from ece496b_basics==0.1.7.dev0) (1.26.4)\n",
            "Requirement already satisfied: filelock in /usr/local/lib/python3.10/dist-packages (from torch==2.2.1->ece496b_basics==0.1.7.dev0) (3.16.1)\n",
            "Requirement already satisfied: typing-extensions>=4.8.0 in /usr/local/lib/python3.10/dist-packages (from torch==2.2.1->ece496b_basics==0.1.7.dev0) (4.12.2)\n",
            "Requirement already satisfied: sympy in /usr/local/lib/python3.10/dist-packages (from torch==2.2.1->ece496b_basics==0.1.7.dev0) (1.13.1)\n",
            "Requirement already satisfied: networkx in /usr/local/lib/python3.10/dist-packages (from torch==2.2.1->ece496b_basics==0.1.7.dev0) (3.4.2)\n",
            "Requirement already satisfied: jinja2 in /usr/local/lib/python3.10/dist-packages (from torch==2.2.1->ece496b_basics==0.1.7.dev0) (3.1.4)\n",
            "Requirement already satisfied: fsspec in /usr/local/lib/python3.10/dist-packages (from torch==2.2.1->ece496b_basics==0.1.7.dev0) (2024.10.0)\n",
            "Collecting nvidia-cuda-nvrtc-cu12==12.1.105 (from torch==2.2.1->ece496b_basics==0.1.7.dev0)\n",
            "  Using cached nvidia_cuda_nvrtc_cu12-12.1.105-py3-none-manylinux1_x86_64.whl.metadata (1.5 kB)\n",
            "Collecting nvidia-cuda-runtime-cu12==12.1.105 (from torch==2.2.1->ece496b_basics==0.1.7.dev0)\n",
            "  Using cached nvidia_cuda_runtime_cu12-12.1.105-py3-none-manylinux1_x86_64.whl.metadata (1.5 kB)\n",
            "Collecting nvidia-cuda-cupti-cu12==12.1.105 (from torch==2.2.1->ece496b_basics==0.1.7.dev0)\n",
            "  Using cached nvidia_cuda_cupti_cu12-12.1.105-py3-none-manylinux1_x86_64.whl.metadata (1.6 kB)\n",
            "Collecting nvidia-cudnn-cu12==8.9.2.26 (from torch==2.2.1->ece496b_basics==0.1.7.dev0)\n",
            "  Using cached nvidia_cudnn_cu12-8.9.2.26-py3-none-manylinux1_x86_64.whl.metadata (1.6 kB)\n",
            "Collecting nvidia-cublas-cu12==12.1.3.1 (from torch==2.2.1->ece496b_basics==0.1.7.dev0)\n",
            "  Using cached nvidia_cublas_cu12-12.1.3.1-py3-none-manylinux1_x86_64.whl.metadata (1.5 kB)\n",
            "Collecting nvidia-cufft-cu12==11.0.2.54 (from torch==2.2.1->ece496b_basics==0.1.7.dev0)\n",
            "  Using cached nvidia_cufft_cu12-11.0.2.54-py3-none-manylinux1_x86_64.whl.metadata (1.5 kB)\n",
            "Collecting nvidia-curand-cu12==10.3.2.106 (from torch==2.2.1->ece496b_basics==0.1.7.dev0)\n",
            "  Using cached nvidia_curand_cu12-10.3.2.106-py3-none-manylinux1_x86_64.whl.metadata (1.5 kB)\n",
            "Collecting nvidia-cusolver-cu12==11.4.5.107 (from torch==2.2.1->ece496b_basics==0.1.7.dev0)\n",
            "  Using cached nvidia_cusolver_cu12-11.4.5.107-py3-none-manylinux1_x86_64.whl.metadata (1.6 kB)\n",
            "Collecting nvidia-cusparse-cu12==12.1.0.106 (from torch==2.2.1->ece496b_basics==0.1.7.dev0)\n",
            "  Using cached nvidia_cusparse_cu12-12.1.0.106-py3-none-manylinux1_x86_64.whl.metadata (1.6 kB)\n",
            "Collecting nvidia-nccl-cu12==2.19.3 (from torch==2.2.1->ece496b_basics==0.1.7.dev0)\n",
            "  Using cached nvidia_nccl_cu12-2.19.3-py3-none-manylinux1_x86_64.whl.metadata (1.8 kB)\n",
            "Collecting nvidia-nvtx-cu12==12.1.105 (from torch==2.2.1->ece496b_basics==0.1.7.dev0)\n",
            "  Using cached nvidia_nvtx_cu12-12.1.105-py3-none-manylinux1_x86_64.whl.metadata (1.7 kB)\n",
            "Collecting triton==2.2.0 (from torch==2.2.1->ece496b_basics==0.1.7.dev0)\n",
            "  Using cached triton-2.2.0-cp310-cp310-manylinux_2_17_x86_64.manylinux2014_x86_64.whl.metadata (1.4 kB)\n",
            "Requirement already satisfied: nvidia-nvjitlink-cu12 in /usr/local/lib/python3.10/dist-packages (from nvidia-cusolver-cu12==11.4.5.107->torch==2.2.1->ece496b_basics==0.1.7.dev0) (12.6.85)\n",
            "Requirement already satisfied: pytest in /usr/local/lib/python3.10/dist-packages (from ece496b_basics==0.1.7.dev0) (8.3.4)\n",
            "Collecting tiktoken (from ece496b_basics==0.1.7.dev0)\n",
            "  Using cached tiktoken-0.8.0-cp310-cp310-manylinux_2_17_x86_64.manylinux2014_x86_64.whl.metadata (6.6 kB)\n",
            "Requirement already satisfied: psutil in /usr/local/lib/python3.10/dist-packages (from ece496b_basics==0.1.7.dev0) (5.9.5)\n",
            "Requirement already satisfied: exceptiongroup>=1.0.0rc8 in /usr/local/lib/python3.10/dist-packages (from pytest->ece496b_basics==0.1.7.dev0) (1.2.2)\n",
            "Requirement already satisfied: iniconfig in /usr/local/lib/python3.10/dist-packages (from pytest->ece496b_basics==0.1.7.dev0) (2.0.0)\n",
            "Requirement already satisfied: packaging in /usr/local/lib/python3.10/dist-packages (from pytest->ece496b_basics==0.1.7.dev0) (24.2)\n",
            "Requirement already satisfied: pluggy<2,>=1.5 in /usr/local/lib/python3.10/dist-packages (from pytest->ece496b_basics==0.1.7.dev0) (1.5.0)\n",
            "Requirement already satisfied: tomli>=1 in /usr/local/lib/python3.10/dist-packages (from pytest->ece496b_basics==0.1.7.dev0) (2.2.1)\n",
            "Requirement already satisfied: requests>=2.26.0 in /usr/local/lib/python3.10/dist-packages (from tiktoken->ece496b_basics==0.1.7.dev0) (2.32.3)\n",
            "Requirement already satisfied: charset-normalizer<4,>=2 in /usr/local/lib/python3.10/dist-packages (from requests>=2.26.0->tiktoken->ece496b_basics==0.1.7.dev0) (3.4.0)\n",
            "Requirement already satisfied: idna<4,>=2.5 in /usr/local/lib/python3.10/dist-packages (from requests>=2.26.0->tiktoken->ece496b_basics==0.1.7.dev0) (3.10)\n",
            "Requirement already satisfied: urllib3<3,>=1.21.1 in /usr/local/lib/python3.10/dist-packages (from requests>=2.26.0->tiktoken->ece496b_basics==0.1.7.dev0) (2.2.3)\n",
            "Requirement already satisfied: certifi>=2017.4.17 in /usr/local/lib/python3.10/dist-packages (from requests>=2.26.0->tiktoken->ece496b_basics==0.1.7.dev0) (2024.12.14)\n",
            "Requirement already satisfied: MarkupSafe>=2.0 in /usr/local/lib/python3.10/dist-packages (from jinja2->torch==2.2.1->ece496b_basics==0.1.7.dev0) (3.0.2)\n",
            "Requirement already satisfied: mpmath<1.4,>=1.1.0 in /usr/local/lib/python3.10/dist-packages (from sympy->torch==2.2.1->ece496b_basics==0.1.7.dev0) (1.3.0)\n",
            "Downloading torch-2.2.1-cp310-cp310-manylinux1_x86_64.whl (755.5 MB)\n",
            "\u001b[2K   \u001b[90m━━━━━━━━━━━━━━━━━━━━━━━━━━━━━━━━━━━━━━━━\u001b[0m \u001b[32m755.5/755.5 MB\u001b[0m \u001b[31m2.1 MB/s\u001b[0m eta \u001b[36m0:00:00\u001b[0m\n",
            "\u001b[?25hDownloading nvidia_cublas_cu12-12.1.3.1-py3-none-manylinux1_x86_64.whl (410.6 MB)\n",
            "\u001b[2K   \u001b[90m━━━━━━━━━━━━━━━━━━━━━━━━━━━━━━━━━━━━━━━━\u001b[0m \u001b[32m410.6/410.6 MB\u001b[0m \u001b[31m3.3 MB/s\u001b[0m eta \u001b[36m0:00:00\u001b[0m\n",
            "\u001b[?25hDownloading nvidia_cuda_cupti_cu12-12.1.105-py3-none-manylinux1_x86_64.whl (14.1 MB)\n",
            "\u001b[2K   \u001b[90m━━━━━━━━━━━━━━━━━━━━━━━━━━━━━━━━━━━━━━━━\u001b[0m \u001b[32m14.1/14.1 MB\u001b[0m \u001b[31m58.5 MB/s\u001b[0m eta \u001b[36m0:00:00\u001b[0m\n",
            "\u001b[?25hDownloading nvidia_cuda_nvrtc_cu12-12.1.105-py3-none-manylinux1_x86_64.whl (23.7 MB)\n",
            "\u001b[2K   \u001b[90m━━━━━━━━━━━━━━━━━━━━━━━━━━━━━━━━━━━━━━━━\u001b[0m \u001b[32m23.7/23.7 MB\u001b[0m \u001b[31m34.7 MB/s\u001b[0m eta \u001b[36m0:00:00\u001b[0m\n",
            "\u001b[?25hDownloading nvidia_cuda_runtime_cu12-12.1.105-py3-none-manylinux1_x86_64.whl (823 kB)\n",
            "\u001b[2K   \u001b[90m━━━━━━━━━━━━━━━━━━━━━━━━━━━━━━━━━━━━━━━━\u001b[0m \u001b[32m823.6/823.6 kB\u001b[0m \u001b[31m37.2 MB/s\u001b[0m eta \u001b[36m0:00:00\u001b[0m\n",
            "\u001b[?25hDownloading nvidia_cudnn_cu12-8.9.2.26-py3-none-manylinux1_x86_64.whl (731.7 MB)\n",
            "\u001b[2K   \u001b[90m━━━━━━━━━━━━━━━━━━━━━━━━━━━━━━━━━━━━━━━━\u001b[0m \u001b[32m731.7/731.7 MB\u001b[0m \u001b[31m1.9 MB/s\u001b[0m eta \u001b[36m0:00:00\u001b[0m\n",
            "\u001b[?25hDownloading nvidia_cufft_cu12-11.0.2.54-py3-none-manylinux1_x86_64.whl (121.6 MB)\n",
            "\u001b[2K   \u001b[90m━━━━━━━━━━━━━━━━━━━━━━━━━━━━━━━━━━━━━━━━\u001b[0m \u001b[32m121.6/121.6 MB\u001b[0m \u001b[31m7.5 MB/s\u001b[0m eta \u001b[36m0:00:00\u001b[0m\n",
            "\u001b[?25hDownloading nvidia_curand_cu12-10.3.2.106-py3-none-manylinux1_x86_64.whl (56.5 MB)\n",
            "\u001b[2K   \u001b[90m━━━━━━━━━━━━━━━━━━━━━━━━━━━━━━━━━━━━━━━━\u001b[0m \u001b[32m56.5/56.5 MB\u001b[0m \u001b[31m11.5 MB/s\u001b[0m eta \u001b[36m0:00:00\u001b[0m\n",
            "\u001b[?25hDownloading nvidia_cusolver_cu12-11.4.5.107-py3-none-manylinux1_x86_64.whl (124.2 MB)\n",
            "\u001b[2K   \u001b[90m━━━━━━━━━━━━━━━━━━━━━━━━━━━━━━━━━━━━━━━━\u001b[0m \u001b[32m124.2/124.2 MB\u001b[0m \u001b[31m7.5 MB/s\u001b[0m eta \u001b[36m0:00:00\u001b[0m\n",
            "\u001b[?25hDownloading nvidia_cusparse_cu12-12.1.0.106-py3-none-manylinux1_x86_64.whl (196.0 MB)\n",
            "\u001b[2K   \u001b[90m━━━━━━━━━━━━━━━━━━━━━━━━━━━━━━━━━━━━━━━━\u001b[0m \u001b[32m196.0/196.0 MB\u001b[0m \u001b[31m7.5 MB/s\u001b[0m eta \u001b[36m0:00:00\u001b[0m\n",
            "\u001b[?25hDownloading nvidia_nccl_cu12-2.19.3-py3-none-manylinux1_x86_64.whl (166.0 MB)\n",
            "\u001b[2K   \u001b[90m━━━━━━━━━━━━━━━━━━━━━━━━━━━━━━━━━━━━━━━━\u001b[0m \u001b[32m166.0/166.0 MB\u001b[0m \u001b[31m6.7 MB/s\u001b[0m eta \u001b[36m0:00:00\u001b[0m\n",
            "\u001b[?25hDownloading nvidia_nvtx_cu12-12.1.105-py3-none-manylinux1_x86_64.whl (99 kB)\n",
            "\u001b[2K   \u001b[90m━━━━━━━━━━━━━━━━━━━━━━━━━━━━━━━━━━━━━━━━\u001b[0m \u001b[32m99.1/99.1 kB\u001b[0m \u001b[31m7.5 MB/s\u001b[0m eta \u001b[36m0:00:00\u001b[0m\n",
            "\u001b[?25hDownloading triton-2.2.0-cp310-cp310-manylinux_2_17_x86_64.manylinux2014_x86_64.whl (167.9 MB)\n",
            "\u001b[2K   \u001b[90m━━━━━━━━━━━━━━━━━━━━━━━━━━━━━━━━━━━━━━━━\u001b[0m \u001b[32m167.9/167.9 MB\u001b[0m \u001b[31m6.7 MB/s\u001b[0m eta \u001b[36m0:00:00\u001b[0m\n",
            "\u001b[?25hDownloading tiktoken-0.8.0-cp310-cp310-manylinux_2_17_x86_64.manylinux2014_x86_64.whl (1.2 MB)\n",
            "\u001b[2K   \u001b[90m━━━━━━━━━━━━━━━━━━━━━━━━━━━━━━━━━━━━━━━━\u001b[0m \u001b[32m1.2/1.2 MB\u001b[0m \u001b[31m52.3 MB/s\u001b[0m eta \u001b[36m0:00:00\u001b[0m\n",
            "\u001b[?25hInstalling collected packages: triton, nvidia-nvtx-cu12, nvidia-nccl-cu12, nvidia-cusparse-cu12, nvidia-curand-cu12, nvidia-cufft-cu12, nvidia-cuda-runtime-cu12, nvidia-cuda-nvrtc-cu12, nvidia-cuda-cupti-cu12, nvidia-cublas-cu12, tiktoken, nvidia-cusolver-cu12, nvidia-cudnn-cu12, torch, ece496b_basics\n",
            "  Attempting uninstall: nvidia-nccl-cu12\n",
            "    Found existing installation: nvidia-nccl-cu12 2.23.4\n",
            "    Uninstalling nvidia-nccl-cu12-2.23.4:\n",
            "      Successfully uninstalled nvidia-nccl-cu12-2.23.4\n",
            "  Attempting uninstall: nvidia-cusparse-cu12\n",
            "    Found existing installation: nvidia-cusparse-cu12 12.5.4.2\n",
            "    Uninstalling nvidia-cusparse-cu12-12.5.4.2:\n",
            "      Successfully uninstalled nvidia-cusparse-cu12-12.5.4.2\n",
            "  Attempting uninstall: nvidia-curand-cu12\n",
            "    Found existing installation: nvidia-curand-cu12 10.3.7.77\n",
            "    Uninstalling nvidia-curand-cu12-10.3.7.77:\n",
            "      Successfully uninstalled nvidia-curand-cu12-10.3.7.77\n",
            "  Attempting uninstall: nvidia-cufft-cu12\n",
            "    Found existing installation: nvidia-cufft-cu12 11.3.0.4\n",
            "    Uninstalling nvidia-cufft-cu12-11.3.0.4:\n",
            "      Successfully uninstalled nvidia-cufft-cu12-11.3.0.4\n",
            "  Attempting uninstall: nvidia-cuda-runtime-cu12\n",
            "    Found existing installation: nvidia-cuda-runtime-cu12 12.6.77\n",
            "    Uninstalling nvidia-cuda-runtime-cu12-12.6.77:\n",
            "      Successfully uninstalled nvidia-cuda-runtime-cu12-12.6.77\n",
            "  Attempting uninstall: nvidia-cuda-cupti-cu12\n",
            "    Found existing installation: nvidia-cuda-cupti-cu12 12.6.80\n",
            "    Uninstalling nvidia-cuda-cupti-cu12-12.6.80:\n",
            "      Successfully uninstalled nvidia-cuda-cupti-cu12-12.6.80\n",
            "  Attempting uninstall: nvidia-cublas-cu12\n",
            "    Found existing installation: nvidia-cublas-cu12 12.6.4.1\n",
            "    Uninstalling nvidia-cublas-cu12-12.6.4.1:\n",
            "      Successfully uninstalled nvidia-cublas-cu12-12.6.4.1\n",
            "  Attempting uninstall: nvidia-cusolver-cu12\n",
            "    Found existing installation: nvidia-cusolver-cu12 11.7.1.2\n",
            "    Uninstalling nvidia-cusolver-cu12-11.7.1.2:\n",
            "      Successfully uninstalled nvidia-cusolver-cu12-11.7.1.2\n",
            "  Attempting uninstall: nvidia-cudnn-cu12\n",
            "    Found existing installation: nvidia-cudnn-cu12 9.6.0.74\n",
            "    Uninstalling nvidia-cudnn-cu12-9.6.0.74:\n",
            "      Successfully uninstalled nvidia-cudnn-cu12-9.6.0.74\n",
            "  Attempting uninstall: torch\n",
            "    Found existing installation: torch 2.5.1+cu121\n",
            "    Uninstalling torch-2.5.1+cu121:\n",
            "      Successfully uninstalled torch-2.5.1+cu121\n",
            "  Running setup.py develop for ece496b_basics\n",
            "\u001b[31mERROR: pip's dependency resolver does not currently take into account all the packages that are installed. This behaviour is the source of the following dependency conflicts.\n",
            "torchaudio 2.5.1+cu121 requires torch==2.5.1, but you have torch 2.2.1 which is incompatible.\n",
            "torchvision 0.20.1+cu121 requires torch==2.5.1, but you have torch 2.2.1 which is incompatible.\u001b[0m\u001b[31m\n",
            "\u001b[0mSuccessfully installed ece496b_basics-0.1.7.dev0 nvidia-cublas-cu12-12.1.3.1 nvidia-cuda-cupti-cu12-12.1.105 nvidia-cuda-nvrtc-cu12-12.1.105 nvidia-cuda-runtime-cu12-12.1.105 nvidia-cudnn-cu12-8.9.2.26 nvidia-cufft-cu12-11.0.2.54 nvidia-curand-cu12-10.3.2.106 nvidia-cusolver-cu12-11.4.5.107 nvidia-cusparse-cu12-12.1.0.106 nvidia-nccl-cu12-2.19.3 nvidia-nvtx-cu12-12.1.105 tiktoken-0.8.0 torch-2.2.1 triton-2.2.0\n"
          ]
        }
      ]
    },
    {
      "cell_type": "code",
      "source": [
        "!pytest tests/test_train_bpe.py"
      ],
      "metadata": {
        "colab": {
          "base_uri": "https://localhost:8080/"
        },
        "id": "J-_dABLeW3LR",
        "outputId": "93a13f44-031d-4e53-8ef0-b7e38e0a14f8"
      },
      "execution_count": null,
      "outputs": [
        {
          "output_type": "stream",
          "name": "stdout",
          "text": [
            "\u001b[1m======================================= test session starts ========================================\u001b[0m\n",
            "platform linux -- Python 3.10.12, pytest-8.3.4, pluggy-1.5.0\n",
            "rootdir: /content/s2025-assignment1-basics\n",
            "configfile: pytest.ini\n",
            "plugins: anyio-3.7.1, typeguard-4.4.1\n",
            "collected 2 items                                                                                  \u001b[0m\n",
            "\n",
            "tests/test_train_bpe.py::test_train_bpe_speed \u001b[31mFAILED\u001b[0m\u001b[31m                                         [ 50%]\u001b[0m\n",
            "tests/test_train_bpe.py::test_train_bpe \u001b[31mFAILED\u001b[0m\u001b[31m                                               [100%]\u001b[0m\n",
            "\n",
            "============================================= FAILURES =============================================\n",
            "\u001b[31m\u001b[1m_______________________________________ test_train_bpe_speed _______________________________________\u001b[0m\n",
            "\n",
            "    \u001b[0m\u001b[94mdef\u001b[39;49;00m \u001b[92mtest_train_bpe_speed\u001b[39;49;00m():\u001b[90m\u001b[39;49;00m\n",
            "    \u001b[90m    \u001b[39;49;00m\u001b[33m\"\"\"\u001b[39;49;00m\n",
            "    \u001b[33m    Ensure that BPE training is relatively efficient by measuring training\u001b[39;49;00m\n",
            "    \u001b[33m    time on this small dataset and throwing an error if it takes more than 1.5 seconds.\u001b[39;49;00m\n",
            "    \u001b[33m    This is a pretty generous upper-bound, it takes 0.38 seconds with the\u001b[39;49;00m\n",
            "    \u001b[33m    reference implementation on my laptop. In contrast, the toy implementation\u001b[39;49;00m\n",
            "    \u001b[33m    takes around 3 seconds.\u001b[39;49;00m\n",
            "    \u001b[33m    \"\"\"\u001b[39;49;00m\u001b[90m\u001b[39;49;00m\n",
            "        input_path = FIXTURES_PATH / \u001b[33m\"\u001b[39;49;00m\u001b[33mcorpus.en\u001b[39;49;00m\u001b[33m\"\u001b[39;49;00m\u001b[90m\u001b[39;49;00m\n",
            "        start_time = time.time()\u001b[90m\u001b[39;49;00m\n",
            ">       _, _ = run_train_bpe(\u001b[90m\u001b[39;49;00m\n",
            "            input_path=input_path,\u001b[90m\u001b[39;49;00m\n",
            "            vocab_size=\u001b[94m500\u001b[39;49;00m,\u001b[90m\u001b[39;49;00m\n",
            "            special_tokens=[\u001b[33m\"\u001b[39;49;00m\u001b[33m<|endoftext|>\u001b[39;49;00m\u001b[33m\"\u001b[39;49;00m],\u001b[90m\u001b[39;49;00m\n",
            "        )\u001b[90m\u001b[39;49;00m\n",
            "\n",
            "\u001b[1m\u001b[31mtests/test_train_bpe.py\u001b[0m:19: \n",
            "_ _ _ _ _ _ _ _ _ _ _ _ _ _ _ _ _ _ _ _ _ _ _ _ _ _ _ _ _ _ _ _ _ _ _ _ _ _ _ _ _ _ _ _ _ _ _ _ _ _ \n",
            "\n",
            "input_path = PosixPath('/content/s2025-assignment1-basics/tests/fixtures/corpus.en')\n",
            "vocab_size = 500, special_tokens = ['<|endoftext|>'], kwargs = {}\n",
            "\n",
            "    \u001b[0m\u001b[94mdef\u001b[39;49;00m \u001b[92mrun_train_bpe\u001b[39;49;00m(\u001b[90m\u001b[39;49;00m\n",
            "        input_path: \u001b[96mstr\u001b[39;49;00m | os.PathLike,\u001b[90m\u001b[39;49;00m\n",
            "        vocab_size: \u001b[96mint\u001b[39;49;00m,\u001b[90m\u001b[39;49;00m\n",
            "        special_tokens: \u001b[96mlist\u001b[39;49;00m[\u001b[96mstr\u001b[39;49;00m],\u001b[90m\u001b[39;49;00m\n",
            "        **kwargs,\u001b[90m\u001b[39;49;00m\n",
            "    ):\u001b[90m\u001b[39;49;00m\n",
            "    \u001b[90m    \u001b[39;49;00m\u001b[33m\"\"\"Given the path to an input corpus, run train a BPE tokenizer and\u001b[39;49;00m\n",
            "    \u001b[33m    output its vocabulary and merges.\u001b[39;49;00m\n",
            "    \u001b[33m\u001b[39;49;00m\n",
            "    \u001b[33m    Args:\u001b[39;49;00m\n",
            "    \u001b[33m        input_path: str | os.PathLike\u001b[39;49;00m\n",
            "    \u001b[33m            Path to BPE tokenizer training data.\u001b[39;49;00m\n",
            "    \u001b[33m        vocab_size: int\u001b[39;49;00m\n",
            "    \u001b[33m            Total number of items in the tokenizer's vocabulary (including special tokens).\u001b[39;49;00m\n",
            "    \u001b[33m        special_tokens: list[str]\u001b[39;49;00m\n",
            "    \u001b[33m            A list of string special tokens to be added to the tokenizer vocabulary.\u001b[39;49;00m\n",
            "    \u001b[33m            These strings will never be split into multiple tokens, and will always be\u001b[39;49;00m\n",
            "    \u001b[33m            kept as a single token. If these special tokens occur in the `input_path`,\u001b[39;49;00m\n",
            "    \u001b[33m            they are treated as any other string.\u001b[39;49;00m\n",
            "    \u001b[33m\u001b[39;49;00m\n",
            "    \u001b[33m    Returns:\u001b[39;49;00m\n",
            "    \u001b[33m        Tuple of (vocab, merges):\u001b[39;49;00m\n",
            "    \u001b[33m            vocab: dict[int, bytes]\u001b[39;49;00m\n",
            "    \u001b[33m                The trained tokenizer vocabulary, a mapping from int (token ID in the vocabulary)\u001b[39;49;00m\n",
            "    \u001b[33m                to bytes (token bytes)\u001b[39;49;00m\n",
            "    \u001b[33m            merges: list[tuple[bytes, bytes]]\u001b[39;49;00m\n",
            "    \u001b[33m                BPE merges. Each list item is a tuple of bytes (<token1>, <token2>),\u001b[39;49;00m\n",
            "    \u001b[33m                representing that <token1> was merged with <token2>.\u001b[39;49;00m\n",
            "    \u001b[33m                Merges are ordered by order of creation.\u001b[39;49;00m\n",
            "    \u001b[33m    \"\"\"\u001b[39;49;00m\u001b[90m\u001b[39;49;00m\n",
            ">       \u001b[94mraise\u001b[39;49;00m \u001b[96mNotImplementedError\u001b[39;49;00m\u001b[90m\u001b[39;49;00m\n",
            "\u001b[1m\u001b[31mE       NotImplementedError\u001b[0m\n",
            "\n",
            "\u001b[1m\u001b[31mtests/adapters.py\u001b[0m:572: NotImplementedError\n",
            "\u001b[31m\u001b[1m__________________________________________ test_train_bpe __________________________________________\u001b[0m\n",
            "\n",
            "    \u001b[0m\u001b[94mdef\u001b[39;49;00m \u001b[92mtest_train_bpe\u001b[39;49;00m():\u001b[90m\u001b[39;49;00m\n",
            "        input_path = FIXTURES_PATH / \u001b[33m\"\u001b[39;49;00m\u001b[33mcorpus.en\u001b[39;49;00m\u001b[33m\"\u001b[39;49;00m\u001b[90m\u001b[39;49;00m\n",
            ">       vocab, merges = run_train_bpe(\u001b[90m\u001b[39;49;00m\n",
            "            input_path=input_path,\u001b[90m\u001b[39;49;00m\n",
            "            vocab_size=\u001b[94m500\u001b[39;49;00m,\u001b[90m\u001b[39;49;00m\n",
            "            special_tokens=[\u001b[33m\"\u001b[39;49;00m\u001b[33m<|endoftext|>\u001b[39;49;00m\u001b[33m\"\u001b[39;49;00m],\u001b[90m\u001b[39;49;00m\n",
            "        )\u001b[90m\u001b[39;49;00m\n",
            "\n",
            "\u001b[1m\u001b[31mtests/test_train_bpe.py\u001b[0m:30: \n",
            "_ _ _ _ _ _ _ _ _ _ _ _ _ _ _ _ _ _ _ _ _ _ _ _ _ _ _ _ _ _ _ _ _ _ _ _ _ _ _ _ _ _ _ _ _ _ _ _ _ _ \n",
            "\n",
            "input_path = PosixPath('/content/s2025-assignment1-basics/tests/fixtures/corpus.en')\n",
            "vocab_size = 500, special_tokens = ['<|endoftext|>'], kwargs = {}\n",
            "\n",
            "    \u001b[0m\u001b[94mdef\u001b[39;49;00m \u001b[92mrun_train_bpe\u001b[39;49;00m(\u001b[90m\u001b[39;49;00m\n",
            "        input_path: \u001b[96mstr\u001b[39;49;00m | os.PathLike,\u001b[90m\u001b[39;49;00m\n",
            "        vocab_size: \u001b[96mint\u001b[39;49;00m,\u001b[90m\u001b[39;49;00m\n",
            "        special_tokens: \u001b[96mlist\u001b[39;49;00m[\u001b[96mstr\u001b[39;49;00m],\u001b[90m\u001b[39;49;00m\n",
            "        **kwargs,\u001b[90m\u001b[39;49;00m\n",
            "    ):\u001b[90m\u001b[39;49;00m\n",
            "    \u001b[90m    \u001b[39;49;00m\u001b[33m\"\"\"Given the path to an input corpus, run train a BPE tokenizer and\u001b[39;49;00m\n",
            "    \u001b[33m    output its vocabulary and merges.\u001b[39;49;00m\n",
            "    \u001b[33m\u001b[39;49;00m\n",
            "    \u001b[33m    Args:\u001b[39;49;00m\n",
            "    \u001b[33m        input_path: str | os.PathLike\u001b[39;49;00m\n",
            "    \u001b[33m            Path to BPE tokenizer training data.\u001b[39;49;00m\n",
            "    \u001b[33m        vocab_size: int\u001b[39;49;00m\n",
            "    \u001b[33m            Total number of items in the tokenizer's vocabulary (including special tokens).\u001b[39;49;00m\n",
            "    \u001b[33m        special_tokens: list[str]\u001b[39;49;00m\n",
            "    \u001b[33m            A list of string special tokens to be added to the tokenizer vocabulary.\u001b[39;49;00m\n",
            "    \u001b[33m            These strings will never be split into multiple tokens, and will always be\u001b[39;49;00m\n",
            "    \u001b[33m            kept as a single token. If these special tokens occur in the `input_path`,\u001b[39;49;00m\n",
            "    \u001b[33m            they are treated as any other string.\u001b[39;49;00m\n",
            "    \u001b[33m\u001b[39;49;00m\n",
            "    \u001b[33m    Returns:\u001b[39;49;00m\n",
            "    \u001b[33m        Tuple of (vocab, merges):\u001b[39;49;00m\n",
            "    \u001b[33m            vocab: dict[int, bytes]\u001b[39;49;00m\n",
            "    \u001b[33m                The trained tokenizer vocabulary, a mapping from int (token ID in the vocabulary)\u001b[39;49;00m\n",
            "    \u001b[33m                to bytes (token bytes)\u001b[39;49;00m\n",
            "    \u001b[33m            merges: list[tuple[bytes, bytes]]\u001b[39;49;00m\n",
            "    \u001b[33m                BPE merges. Each list item is a tuple of bytes (<token1>, <token2>),\u001b[39;49;00m\n",
            "    \u001b[33m                representing that <token1> was merged with <token2>.\u001b[39;49;00m\n",
            "    \u001b[33m                Merges are ordered by order of creation.\u001b[39;49;00m\n",
            "    \u001b[33m    \"\"\"\u001b[39;49;00m\u001b[90m\u001b[39;49;00m\n",
            ">       \u001b[94mraise\u001b[39;49;00m \u001b[96mNotImplementedError\u001b[39;49;00m\u001b[90m\u001b[39;49;00m\n",
            "\u001b[1m\u001b[31mE       NotImplementedError\u001b[0m\n",
            "\n",
            "\u001b[1m\u001b[31mtests/adapters.py\u001b[0m:572: NotImplementedError\n",
            "\u001b[36m\u001b[1m===================================== short test summary info ======================================\u001b[0m\n",
            "\u001b[31mFAILED\u001b[0m tests/test_train_bpe.py::\u001b[1mtest_train_bpe_speed\u001b[0m - NotImplementedError\n",
            "\u001b[31mFAILED\u001b[0m tests/test_train_bpe.py::\u001b[1mtest_train_bpe\u001b[0m - NotImplementedError\n",
            "\u001b[31m======================================== \u001b[31m\u001b[1m2 failed\u001b[0m\u001b[31m in 4.02s\u001b[0m\u001b[31m =========================================\u001b[0m\n"
          ]
        }
      ]
    },
    {
      "cell_type": "code",
      "source": [
        "%cd ..\n",
        "%mkdir -p data\n",
        "%cd data\n",
        "\n",
        "!wget https://huggingface.co/datasets/roneneldan/TinyStories/resolve/main/TinyStoriesV2-GPT4-train.txt\n",
        "!wget https://huggingface.co/datasets/roneneldan/TinyStories/resolve/main/TinyStoriesV2-GPT4-valid.txt\n",
        "\n",
        "!wget https://huggingface.co/datasets/stanford-cs336/owt-sample/resolve/main/owt_train.txt.gz\n",
        "!gunzip owt_train.txt.gz\n",
        "!wget https://huggingface.co/datasets/stanford-cs336/owt-sample/resolve/main/owt_valid.txt.gz\n",
        "!gunzip owt_valid.txt.gz\n",
        "\n",
        "%cd ..\n",
        "%cd s2025-assignment1-basics/"
      ],
      "metadata": {
        "colab": {
          "base_uri": "https://localhost:8080/"
        },
        "id": "5wrA646Gf3Ht",
        "outputId": "11980d9d-8740-4906-c74d-0fb8e6a6e2b9"
      },
      "execution_count": null,
      "outputs": [
        {
          "output_type": "stream",
          "name": "stdout",
          "text": [
            "/content\n",
            "/content/data\n",
            "--2024-12-24 21:09:03--  https://huggingface.co/datasets/roneneldan/TinyStories/resolve/main/TinyStoriesV2-GPT4-train.txt\n",
            "Resolving huggingface.co (huggingface.co)... 3.171.171.128, 3.171.171.104, 3.171.171.6, ...\n",
            "Connecting to huggingface.co (huggingface.co)|3.171.171.128|:443... connected.\n",
            "HTTP request sent, awaiting response... 302 Found\n",
            "Location: https://cdn-lfs.hf.co/repos/42/7f/427f7497b6c6596c18b46d5a72e61364fcad12aa433c60a0dbd4d344477b9d81/6418d412de72888f52b5142c761ac21a582f7d1166f0bfbdb5f03ccfdec90443?response-content-disposition=inline%3B+filename*%3DUTF-8%27%27TinyStoriesV2-GPT4-train.txt%3B+filename%3D%22TinyStoriesV2-GPT4-train.txt%22%3B&response-content-type=text%2Fplain&Expires=1735333743&Policy=eyJTdGF0ZW1lbnQiOlt7IkNvbmRpdGlvbiI6eyJEYXRlTGVzc1RoYW4iOnsiQVdTOkVwb2NoVGltZSI6MTczNTMzMzc0M319LCJSZXNvdXJjZSI6Imh0dHBzOi8vY2RuLWxmcy5oZi5jby9yZXBvcy80Mi83Zi80MjdmNzQ5N2I2YzY1OTZjMThiNDZkNWE3MmU2MTM2NGZjYWQxMmFhNDMzYzYwYTBkYmQ0ZDM0NDQ3N2I5ZDgxLzY0MThkNDEyZGU3Mjg4OGY1MmI1MTQyYzc2MWFjMjFhNTgyZjdkMTE2NmYwYmZiZGI1ZjAzY2NmZGVjOTA0NDM%7EcmVzcG9uc2UtY29udGVudC1kaXNwb3NpdGlvbj0qJnJlc3BvbnNlLWNvbnRlbnQtdHlwZT0qIn1dfQ__&Signature=TKxea051LwmSauyazKGXxkOFn8ZUL5tpsVHV2y-z5ifiotJh65K-vrYweU3%7E-xPp%7E%7ER31usMni4EqHBaAq9n25NQbwbz%7EQgPseoPMn4u62B82-fMbJIaKBWMFIm0hrNvP-3PNmaX7xOCAgsl5cFIYxG-A3BNw4cPHwXEfZR9idVcKGPGyBuhwo0SPzbV7O15qGNeQGSgbqBD6W%7EFBpQbS4RxuL6Ss2jwX9UCIShwh83NXL8hc3fnEytYT%7E%7EXIyDcfl5Dl15jel8h8PE1hCCvMC0oHoMCjfmOdCExTj45hQyZYc8XfhLgUiOvJ9Luq9K8lpSUJnlX1utlQ2MjdrZDew__&Key-Pair-Id=K3RPWS32NSSJCE [following]\n",
            "--2024-12-24 21:09:03--  https://cdn-lfs.hf.co/repos/42/7f/427f7497b6c6596c18b46d5a72e61364fcad12aa433c60a0dbd4d344477b9d81/6418d412de72888f52b5142c761ac21a582f7d1166f0bfbdb5f03ccfdec90443?response-content-disposition=inline%3B+filename*%3DUTF-8%27%27TinyStoriesV2-GPT4-train.txt%3B+filename%3D%22TinyStoriesV2-GPT4-train.txt%22%3B&response-content-type=text%2Fplain&Expires=1735333743&Policy=eyJTdGF0ZW1lbnQiOlt7IkNvbmRpdGlvbiI6eyJEYXRlTGVzc1RoYW4iOnsiQVdTOkVwb2NoVGltZSI6MTczNTMzMzc0M319LCJSZXNvdXJjZSI6Imh0dHBzOi8vY2RuLWxmcy5oZi5jby9yZXBvcy80Mi83Zi80MjdmNzQ5N2I2YzY1OTZjMThiNDZkNWE3MmU2MTM2NGZjYWQxMmFhNDMzYzYwYTBkYmQ0ZDM0NDQ3N2I5ZDgxLzY0MThkNDEyZGU3Mjg4OGY1MmI1MTQyYzc2MWFjMjFhNTgyZjdkMTE2NmYwYmZiZGI1ZjAzY2NmZGVjOTA0NDM%7EcmVzcG9uc2UtY29udGVudC1kaXNwb3NpdGlvbj0qJnJlc3BvbnNlLWNvbnRlbnQtdHlwZT0qIn1dfQ__&Signature=TKxea051LwmSauyazKGXxkOFn8ZUL5tpsVHV2y-z5ifiotJh65K-vrYweU3%7E-xPp%7E%7ER31usMni4EqHBaAq9n25NQbwbz%7EQgPseoPMn4u62B82-fMbJIaKBWMFIm0hrNvP-3PNmaX7xOCAgsl5cFIYxG-A3BNw4cPHwXEfZR9idVcKGPGyBuhwo0SPzbV7O15qGNeQGSgbqBD6W%7EFBpQbS4RxuL6Ss2jwX9UCIShwh83NXL8hc3fnEytYT%7E%7EXIyDcfl5Dl15jel8h8PE1hCCvMC0oHoMCjfmOdCExTj45hQyZYc8XfhLgUiOvJ9Luq9K8lpSUJnlX1utlQ2MjdrZDew__&Key-Pair-Id=K3RPWS32NSSJCE\n",
            "Resolving cdn-lfs.hf.co (cdn-lfs.hf.co)... 54.230.253.69, 54.230.253.56, 54.230.253.104, ...\n",
            "Connecting to cdn-lfs.hf.co (cdn-lfs.hf.co)|54.230.253.69|:443... connected.\n",
            "HTTP request sent, awaiting response... 200 OK\n",
            "Length: 2227753162 (2.1G) [text/plain]\n",
            "Saving to: ‘TinyStoriesV2-GPT4-train.txt’\n",
            "\n",
            "TinyStoriesV2-GPT4- 100%[===================>]   2.07G  60.2MB/s    in 35s     \n",
            "\n",
            "2024-12-24 21:09:38 (61.0 MB/s) - ‘TinyStoriesV2-GPT4-train.txt’ saved [2227753162/2227753162]\n",
            "\n",
            "--2024-12-24 21:09:38--  https://huggingface.co/datasets/roneneldan/TinyStories/resolve/main/TinyStoriesV2-GPT4-valid.txt\n",
            "Resolving huggingface.co (huggingface.co)... 3.171.171.104, 3.171.171.65, 3.171.171.128, ...\n",
            "Connecting to huggingface.co (huggingface.co)|3.171.171.104|:443... connected.\n",
            "HTTP request sent, awaiting response... 302 Found\n",
            "Location: https://cdn-lfs.hf.co/repos/42/7f/427f7497b6c6596c18b46d5a72e61364fcad12aa433c60a0dbd4d344477b9d81/6874bae9a4c1a4e7edcf0e53b86c17817e9cf881fc75ff2368da457b80c0585d?response-content-disposition=inline%3B+filename*%3DUTF-8%27%27TinyStoriesV2-GPT4-valid.txt%3B+filename%3D%22TinyStoriesV2-GPT4-valid.txt%22%3B&response-content-type=text%2Fplain&Expires=1735333779&Policy=eyJTdGF0ZW1lbnQiOlt7IkNvbmRpdGlvbiI6eyJEYXRlTGVzc1RoYW4iOnsiQVdTOkVwb2NoVGltZSI6MTczNTMzMzc3OX19LCJSZXNvdXJjZSI6Imh0dHBzOi8vY2RuLWxmcy5oZi5jby9yZXBvcy80Mi83Zi80MjdmNzQ5N2I2YzY1OTZjMThiNDZkNWE3MmU2MTM2NGZjYWQxMmFhNDMzYzYwYTBkYmQ0ZDM0NDQ3N2I5ZDgxLzY4NzRiYWU5YTRjMWE0ZTdlZGNmMGU1M2I4NmMxNzgxN2U5Y2Y4ODFmYzc1ZmYyMzY4ZGE0NTdiODBjMDU4NWQ%7EcmVzcG9uc2UtY29udGVudC1kaXNwb3NpdGlvbj0qJnJlc3BvbnNlLWNvbnRlbnQtdHlwZT0qIn1dfQ__&Signature=tbLk4DI4-W4yxqAgRj7ndTHGErRQhcI0OYmOB8wX9YotnBEM0iH3ccw453cdU19BZZYFhNvSms-bN%7EI2mz9JURzv8p75VWrCbNFeEN-p3-goCC-YHHxcgzWLSLWJ5RkIRUGZ-MU9WpMKK6bx6NZMlHyVRKv6pvo03iQjePTlnNU3W8m2cb75wkYWTQRbk9WvbSwm%7EHX6Gja%7E33j2OShEtvGiAi%7EipIPJSnG3JztevteTT-C0%7E6dEqUgj2grQwXpXyuCYSbyHWkpSTNbonCny1KncenPzkfN7kT51bRdm00ZEi9S3iEOOnHNEWuASg8d1IN18pw5Z85SYCqTaO2RQSA__&Key-Pair-Id=K3RPWS32NSSJCE [following]\n",
            "--2024-12-24 21:09:39--  https://cdn-lfs.hf.co/repos/42/7f/427f7497b6c6596c18b46d5a72e61364fcad12aa433c60a0dbd4d344477b9d81/6874bae9a4c1a4e7edcf0e53b86c17817e9cf881fc75ff2368da457b80c0585d?response-content-disposition=inline%3B+filename*%3DUTF-8%27%27TinyStoriesV2-GPT4-valid.txt%3B+filename%3D%22TinyStoriesV2-GPT4-valid.txt%22%3B&response-content-type=text%2Fplain&Expires=1735333779&Policy=eyJTdGF0ZW1lbnQiOlt7IkNvbmRpdGlvbiI6eyJEYXRlTGVzc1RoYW4iOnsiQVdTOkVwb2NoVGltZSI6MTczNTMzMzc3OX19LCJSZXNvdXJjZSI6Imh0dHBzOi8vY2RuLWxmcy5oZi5jby9yZXBvcy80Mi83Zi80MjdmNzQ5N2I2YzY1OTZjMThiNDZkNWE3MmU2MTM2NGZjYWQxMmFhNDMzYzYwYTBkYmQ0ZDM0NDQ3N2I5ZDgxLzY4NzRiYWU5YTRjMWE0ZTdlZGNmMGU1M2I4NmMxNzgxN2U5Y2Y4ODFmYzc1ZmYyMzY4ZGE0NTdiODBjMDU4NWQ%7EcmVzcG9uc2UtY29udGVudC1kaXNwb3NpdGlvbj0qJnJlc3BvbnNlLWNvbnRlbnQtdHlwZT0qIn1dfQ__&Signature=tbLk4DI4-W4yxqAgRj7ndTHGErRQhcI0OYmOB8wX9YotnBEM0iH3ccw453cdU19BZZYFhNvSms-bN%7EI2mz9JURzv8p75VWrCbNFeEN-p3-goCC-YHHxcgzWLSLWJ5RkIRUGZ-MU9WpMKK6bx6NZMlHyVRKv6pvo03iQjePTlnNU3W8m2cb75wkYWTQRbk9WvbSwm%7EHX6Gja%7E33j2OShEtvGiAi%7EipIPJSnG3JztevteTT-C0%7E6dEqUgj2grQwXpXyuCYSbyHWkpSTNbonCny1KncenPzkfN7kT51bRdm00ZEi9S3iEOOnHNEWuASg8d1IN18pw5Z85SYCqTaO2RQSA__&Key-Pair-Id=K3RPWS32NSSJCE\n",
            "Resolving cdn-lfs.hf.co (cdn-lfs.hf.co)... 54.230.253.104, 54.230.253.71, 54.230.253.56, ...\n",
            "Connecting to cdn-lfs.hf.co (cdn-lfs.hf.co)|54.230.253.104|:443... connected.\n",
            "HTTP request sent, awaiting response... 200 OK\n",
            "Length: 22502601 (21M) [text/plain]\n",
            "Saving to: ‘TinyStoriesV2-GPT4-valid.txt’\n",
            "\n",
            "TinyStoriesV2-GPT4- 100%[===================>]  21.46M   124MB/s    in 0.2s    \n",
            "\n",
            "2024-12-24 21:09:39 (124 MB/s) - ‘TinyStoriesV2-GPT4-valid.txt’ saved [22502601/22502601]\n",
            "\n",
            "--2024-12-24 21:09:39--  https://huggingface.co/datasets/stanford-cs336/owt-sample/resolve/main/owt_train.txt.gz\n",
            "Resolving huggingface.co (huggingface.co)... 3.171.171.104, 3.171.171.65, 3.171.171.128, ...\n",
            "Connecting to huggingface.co (huggingface.co)|3.171.171.104|:443... connected.\n",
            "HTTP request sent, awaiting response... 302 Found\n",
            "Location: https://cdn-lfs-us-1.hf.co/repos/56/35/56359101d2f3062d0e2aef6c02f65e54f35b2c4e53eaf92f8116bf2877b7df2f/b19ae88cfbc4016b304c348522455fe38ebac48fffed955adcc7191a89e38ccf?response-content-disposition=inline%3B+filename*%3DUTF-8%27%27owt_train.txt.gz%3B+filename%3D%22owt_train.txt.gz%22%3B&response-content-type=application%2Fgzip&Expires=1735333779&Policy=eyJTdGF0ZW1lbnQiOlt7IkNvbmRpdGlvbiI6eyJEYXRlTGVzc1RoYW4iOnsiQVdTOkVwb2NoVGltZSI6MTczNTMzMzc3OX19LCJSZXNvdXJjZSI6Imh0dHBzOi8vY2RuLWxmcy11cy0xLmhmLmNvL3JlcG9zLzU2LzM1LzU2MzU5MTAxZDJmMzA2MmQwZTJhZWY2YzAyZjY1ZTU0ZjM1YjJjNGU1M2VhZjkyZjgxMTZiZjI4NzdiN2RmMmYvYjE5YWU4OGNmYmM0MDE2YjMwNGMzNDg1MjI0NTVmZTM4ZWJhYzQ4ZmZmZWQ5NTVhZGNjNzE5MWE4OWUzOGNjZj9yZXNwb25zZS1jb250ZW50LWRpc3Bvc2l0aW9uPSomcmVzcG9uc2UtY29udGVudC10eXBlPSoifV19&Signature=V7pQcFvFI-Z73IBy2qg%7EavdDSgHC1ppfyKV2QbHHM%7EIqgaFdHz%7E%7ErRRuMtJyOCVl9zW6mXclYiaPN1BDtVyOLmrFShm0OBeWQB8r5Ma%7EE7mPDN4t96d%7E1Zj7w2cq-KTn5xJropUdzsdPM220OQ8nD%7E85KWanuS-QlKb%7EzOVN-IRoBjASiFXiAVzqbVHIhpM05PuGgUZaX3xGSBl%7EG-Q3mctd%7EzhIqfUglUJN1yMYV2ILFQ0m3M6YUzA89adLx8Mgmkww94CEvHcx1Mc0o%7EYHjWZnLUNzMjcmRuFqP0OVeEmK5vLF75OrispIiSkSBxGKuRO4FJevS0y5%7EaOHxI1S0g__&Key-Pair-Id=K24J24Z295AEI9 [following]\n",
            "--2024-12-24 21:09:39--  https://cdn-lfs-us-1.hf.co/repos/56/35/56359101d2f3062d0e2aef6c02f65e54f35b2c4e53eaf92f8116bf2877b7df2f/b19ae88cfbc4016b304c348522455fe38ebac48fffed955adcc7191a89e38ccf?response-content-disposition=inline%3B+filename*%3DUTF-8%27%27owt_train.txt.gz%3B+filename%3D%22owt_train.txt.gz%22%3B&response-content-type=application%2Fgzip&Expires=1735333779&Policy=eyJTdGF0ZW1lbnQiOlt7IkNvbmRpdGlvbiI6eyJEYXRlTGVzc1RoYW4iOnsiQVdTOkVwb2NoVGltZSI6MTczNTMzMzc3OX19LCJSZXNvdXJjZSI6Imh0dHBzOi8vY2RuLWxmcy11cy0xLmhmLmNvL3JlcG9zLzU2LzM1LzU2MzU5MTAxZDJmMzA2MmQwZTJhZWY2YzAyZjY1ZTU0ZjM1YjJjNGU1M2VhZjkyZjgxMTZiZjI4NzdiN2RmMmYvYjE5YWU4OGNmYmM0MDE2YjMwNGMzNDg1MjI0NTVmZTM4ZWJhYzQ4ZmZmZWQ5NTVhZGNjNzE5MWE4OWUzOGNjZj9yZXNwb25zZS1jb250ZW50LWRpc3Bvc2l0aW9uPSomcmVzcG9uc2UtY29udGVudC10eXBlPSoifV19&Signature=V7pQcFvFI-Z73IBy2qg%7EavdDSgHC1ppfyKV2QbHHM%7EIqgaFdHz%7E%7ErRRuMtJyOCVl9zW6mXclYiaPN1BDtVyOLmrFShm0OBeWQB8r5Ma%7EE7mPDN4t96d%7E1Zj7w2cq-KTn5xJropUdzsdPM220OQ8nD%7E85KWanuS-QlKb%7EzOVN-IRoBjASiFXiAVzqbVHIhpM05PuGgUZaX3xGSBl%7EG-Q3mctd%7EzhIqfUglUJN1yMYV2ILFQ0m3M6YUzA89adLx8Mgmkww94CEvHcx1Mc0o%7EYHjWZnLUNzMjcmRuFqP0OVeEmK5vLF75OrispIiSkSBxGKuRO4FJevS0y5%7EaOHxI1S0g__&Key-Pair-Id=K24J24Z295AEI9\n",
            "Resolving cdn-lfs-us-1.hf.co (cdn-lfs-us-1.hf.co)... 18.164.78.17, 18.164.78.101, 18.164.78.46, ...\n",
            "Connecting to cdn-lfs-us-1.hf.co (cdn-lfs-us-1.hf.co)|18.164.78.17|:443... connected.\n",
            "HTTP request sent, awaiting response... 200 OK\n",
            "Length: 4591240837 (4.3G) [application/gzip]\n",
            "Saving to: ‘owt_train.txt.gz’\n",
            "\n",
            "owt_train.txt.gz    100%[===================>]   4.28G  40.5MB/s    in 1m 50s  \n",
            "\n",
            "2024-12-24 21:11:29 (40.0 MB/s) - ‘owt_train.txt.gz’ saved [4591240837/4591240837]\n",
            "\n",
            "--2024-12-24 21:14:36--  https://huggingface.co/datasets/stanford-cs336/owt-sample/resolve/main/owt_valid.txt.gz\n",
            "Resolving huggingface.co (huggingface.co)... 3.171.171.6, 3.171.171.128, 3.171.171.104, ...\n",
            "Connecting to huggingface.co (huggingface.co)|3.171.171.6|:443... connected.\n",
            "HTTP request sent, awaiting response... 302 Found\n",
            "Location: https://cdn-lfs-us-1.hf.co/repos/56/35/56359101d2f3062d0e2aef6c02f65e54f35b2c4e53eaf92f8116bf2877b7df2f/bc73db5da2f19c360836b9c8a88094e13346ec83798c2f40060be39135768c80?response-content-disposition=inline%3B+filename*%3DUTF-8%27%27owt_valid.txt.gz%3B+filename%3D%22owt_valid.txt.gz%22%3B&response-content-type=application%2Fgzip&Expires=1735334076&Policy=eyJTdGF0ZW1lbnQiOlt7IkNvbmRpdGlvbiI6eyJEYXRlTGVzc1RoYW4iOnsiQVdTOkVwb2NoVGltZSI6MTczNTMzNDA3Nn19LCJSZXNvdXJjZSI6Imh0dHBzOi8vY2RuLWxmcy11cy0xLmhmLmNvL3JlcG9zLzU2LzM1LzU2MzU5MTAxZDJmMzA2MmQwZTJhZWY2YzAyZjY1ZTU0ZjM1YjJjNGU1M2VhZjkyZjgxMTZiZjI4NzdiN2RmMmYvYmM3M2RiNWRhMmYxOWMzNjA4MzZiOWM4YTg4MDk0ZTEzMzQ2ZWM4Mzc5OGMyZjQwMDYwYmUzOTEzNTc2OGM4MD9yZXNwb25zZS1jb250ZW50LWRpc3Bvc2l0aW9uPSomcmVzcG9uc2UtY29udGVudC10eXBlPSoifV19&Signature=hnJlkDYyvAjMVPfqBiFFxbFbVwe07ko9JFWoUbw0LGWByEmtgoKbxrKFi3N5Nn5XLRlea2TGhXE3XkFWimaUzdvPfPEePgHzjKOVU9eoOQZOq2jS1n7Qze%7EDmjDG8CH0RJuBuSHaI7AedPxxaHIfhItucTDihGcLRh-wAL8fPMTvJ9VzyArN%7EBNYC8M2%7EghJHCZWmzKbeyxO5C54NUt061yrCmbJUn1RWzeVYBxppEUEBvtOD5KH7qTG0mi3TV990-tc2%7EvHlwqGGHNfqCeQN49TBwJnPDaFAujSMVnE7ULtdhedMVBYZILGtuThbcj2O8IvLBP-Gqj9EHwOBqgEJw__&Key-Pair-Id=K24J24Z295AEI9 [following]\n",
            "--2024-12-24 21:14:36--  https://cdn-lfs-us-1.hf.co/repos/56/35/56359101d2f3062d0e2aef6c02f65e54f35b2c4e53eaf92f8116bf2877b7df2f/bc73db5da2f19c360836b9c8a88094e13346ec83798c2f40060be39135768c80?response-content-disposition=inline%3B+filename*%3DUTF-8%27%27owt_valid.txt.gz%3B+filename%3D%22owt_valid.txt.gz%22%3B&response-content-type=application%2Fgzip&Expires=1735334076&Policy=eyJTdGF0ZW1lbnQiOlt7IkNvbmRpdGlvbiI6eyJEYXRlTGVzc1RoYW4iOnsiQVdTOkVwb2NoVGltZSI6MTczNTMzNDA3Nn19LCJSZXNvdXJjZSI6Imh0dHBzOi8vY2RuLWxmcy11cy0xLmhmLmNvL3JlcG9zLzU2LzM1LzU2MzU5MTAxZDJmMzA2MmQwZTJhZWY2YzAyZjY1ZTU0ZjM1YjJjNGU1M2VhZjkyZjgxMTZiZjI4NzdiN2RmMmYvYmM3M2RiNWRhMmYxOWMzNjA4MzZiOWM4YTg4MDk0ZTEzMzQ2ZWM4Mzc5OGMyZjQwMDYwYmUzOTEzNTc2OGM4MD9yZXNwb25zZS1jb250ZW50LWRpc3Bvc2l0aW9uPSomcmVzcG9uc2UtY29udGVudC10eXBlPSoifV19&Signature=hnJlkDYyvAjMVPfqBiFFxbFbVwe07ko9JFWoUbw0LGWByEmtgoKbxrKFi3N5Nn5XLRlea2TGhXE3XkFWimaUzdvPfPEePgHzjKOVU9eoOQZOq2jS1n7Qze%7EDmjDG8CH0RJuBuSHaI7AedPxxaHIfhItucTDihGcLRh-wAL8fPMTvJ9VzyArN%7EBNYC8M2%7EghJHCZWmzKbeyxO5C54NUt061yrCmbJUn1RWzeVYBxppEUEBvtOD5KH7qTG0mi3TV990-tc2%7EvHlwqGGHNfqCeQN49TBwJnPDaFAujSMVnE7ULtdhedMVBYZILGtuThbcj2O8IvLBP-Gqj9EHwOBqgEJw__&Key-Pair-Id=K24J24Z295AEI9\n",
            "Resolving cdn-lfs-us-1.hf.co (cdn-lfs-us-1.hf.co)... 18.164.78.46, 18.164.78.17, 18.164.78.101, ...\n",
            "Connecting to cdn-lfs-us-1.hf.co (cdn-lfs-us-1.hf.co)|18.164.78.46|:443... connected.\n",
            "HTTP request sent, awaiting response... 200 OK\n",
            "Length: 111785382 (107M) [application/gzip]\n",
            "Saving to: ‘owt_valid.txt.gz’\n",
            "\n",
            "owt_valid.txt.gz    100%[===================>] 106.61M  40.1MB/s    in 2.7s    \n",
            "\n",
            "2024-12-24 21:14:39 (40.1 MB/s) - ‘owt_valid.txt.gz’ saved [111785382/111785382]\n",
            "\n",
            "/content\n",
            "/content/s2025-assignment1-basics\n"
          ]
        }
      ]
    }
  ]
}